{
 "cells": [
  {
   "cell_type": "code",
   "execution_count": 8,
   "id": "c4134fca",
   "metadata": {},
   "outputs": [],
   "source": [
    "import pandas as pd\n",
    "import numpy as np\n",
    "import statsmodels.api as sm\n",
    "import statsmodels.formula.api as smf\n",
    "import matplotlib.pyplot as plt\n",
    "from scipy import stats"
   ]
  },
  {
   "cell_type": "code",
   "execution_count": 4,
   "id": "7267f3a3",
   "metadata": {},
   "outputs": [
    {
     "name": "stdout",
     "output_type": "stream",
     "text": [
      "   Ganancias  Compensacion_CEO\n",
      "0      357.0               0.7\n",
      "1       48.0               0.7\n",
      "2      932.0               0.8\n",
      "3      366.0               0.7\n",
      "4       83.0               0.8\n"
     ]
    }
   ],
   "source": [
    "df = pd.read_excel('ceo.xlsx')\n",
    "print(df.head())"
   ]
  },
  {
   "cell_type": "code",
   "execution_count": null,
   "id": "9ee60f36",
   "metadata": {},
   "outputs": [],
   "source": []
  },
  {
   "cell_type": "code",
   "execution_count": null,
   "id": "8fe2c197",
   "metadata": {},
   "outputs": [],
   "source": []
  },
  {
   "cell_type": "markdown",
   "id": "3b99540f",
   "metadata": {},
   "source": [
    "Verificamos que se cumplan las CPO del problema MLS"
   ]
  },
  {
   "cell_type": "code",
   "execution_count": null,
   "id": "141230cb",
   "metadata": {},
   "outputs": [],
   "source": [
    "regresion.resid.sum)"
   ]
  },
  {
   "cell_type": "code",
   "execution_count": 10,
   "id": "e74f595a",
   "metadata": {},
   "outputs": [
    {
     "name": "stdout",
     "output_type": "stream",
     "text": [
      "   PRECIO  LOTE  CUARTOS  BANOS  PISOS  ENTRADA  REC  SOTANO  CALEF  AIRE  \\\n",
      "0   42000  5850        3      1      2        1    0       1      0     0   \n",
      "1   38500  4000        2      1      1        1    0       0      0     0   \n",
      "2   49500  3060        3      1      1        1    0       0      0     0   \n",
      "3   60500  6650        3      1      2        1    1       0      0     0   \n",
      "4   61000  6360        2      1      1        1    0       0      0     0   \n",
      "\n",
      "   GARAGE  NBHD  \n",
      "0       1     0  \n",
      "1       0     0  \n",
      "2       0     0  \n",
      "3       0     0  \n",
      "4       0     0  \n"
     ]
    }
   ],
   "source": [
    "df = pd.read_excel('./Ejemplo_Casa.xls')\n",
    "print(df.head())"
   ]
  },
  {
   "cell_type": "code",
   "execution_count": null,
   "id": "19bb6429",
   "metadata": {},
   "outputs": [],
   "source": []
  }
 ],
 "metadata": {
  "kernelspec": {
   "display_name": "islp",
   "language": "python",
   "name": "python3"
  },
  "language_info": {
   "codemirror_mode": {
    "name": "ipython",
    "version": 3
   },
   "file_extension": ".py",
   "mimetype": "text/x-python",
   "name": "python",
   "nbconvert_exporter": "python",
   "pygments_lexer": "ipython3",
   "version": "3.12.11"
  }
 },
 "nbformat": 4,
 "nbformat_minor": 5
}
