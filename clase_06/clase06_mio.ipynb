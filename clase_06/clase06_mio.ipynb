{
 "cells": [
  {
   "cell_type": "code",
   "execution_count": 2,
   "id": "72a9cd37",
   "metadata": {},
   "outputs": [],
   "source": [
    "import os\n",
    "import pandas as pd\n",
    "import yfinance as yf\n",
    "import statsmodels.api as sm\n",
    "import numpy as np\n"
   ]
  },
  {
   "cell_type": "code",
   "execution_count": 3,
   "id": "a4dfd282",
   "metadata": {},
   "outputs": [
    {
     "name": "stderr",
     "output_type": "stream",
     "text": [
      "[*********************100%***********************]  1 of 1 completed\n",
      "[*********************100%***********************]  1 of 1 completed\n"
     ]
    },
    {
     "data": {
      "text/html": [
       "<div>\n",
       "<style scoped>\n",
       "    .dataframe tbody tr th:only-of-type {\n",
       "        vertical-align: middle;\n",
       "    }\n",
       "\n",
       "    .dataframe tbody tr th {\n",
       "        vertical-align: top;\n",
       "    }\n",
       "\n",
       "    .dataframe thead th {\n",
       "        text-align: right;\n",
       "    }\n",
       "</style>\n",
       "<table border=\"1\" class=\"dataframe\">\n",
       "  <thead>\n",
       "    <tr style=\"text-align: right;\">\n",
       "      <th></th>\n",
       "      <th>Date</th>\n",
       "      <th>SP500</th>\n",
       "      <th>MSFT</th>\n",
       "      <th>SP500_ret</th>\n",
       "      <th>MSFT_ret</th>\n",
       "    </tr>\n",
       "  </thead>\n",
       "  <tbody>\n",
       "    <tr>\n",
       "      <th>1</th>\n",
       "      <td>2020-07-01</td>\n",
       "      <td>3271.120117</td>\n",
       "      <td>40.592743</td>\n",
       "      <td>0.055101</td>\n",
       "      <td>0.066902</td>\n",
       "    </tr>\n",
       "    <tr>\n",
       "      <th>2</th>\n",
       "      <td>2020-08-01</td>\n",
       "      <td>3500.310059</td>\n",
       "      <td>42.560497</td>\n",
       "      <td>0.070065</td>\n",
       "      <td>0.048476</td>\n",
       "    </tr>\n",
       "    <tr>\n",
       "      <th>3</th>\n",
       "      <td>2020-09-01</td>\n",
       "      <td>3363.000000</td>\n",
       "      <td>42.423027</td>\n",
       "      <td>-0.039228</td>\n",
       "      <td>-0.003230</td>\n",
       "    </tr>\n",
       "    <tr>\n",
       "      <th>4</th>\n",
       "      <td>2020-10-01</td>\n",
       "      <td>3269.959961</td>\n",
       "      <td>41.631653</td>\n",
       "      <td>-0.027666</td>\n",
       "      <td>-0.018654</td>\n",
       "    </tr>\n",
       "    <tr>\n",
       "      <th>5</th>\n",
       "      <td>2020-11-01</td>\n",
       "      <td>3621.629883</td>\n",
       "      <td>44.698151</td>\n",
       "      <td>0.107546</td>\n",
       "      <td>0.073658</td>\n",
       "    </tr>\n",
       "  </tbody>\n",
       "</table>\n",
       "</div>"
      ],
      "text/plain": [
       "        Date        SP500       MSFT  SP500_ret  MSFT_ret\n",
       "1 2020-07-01  3271.120117  40.592743   0.055101  0.066902\n",
       "2 2020-08-01  3500.310059  42.560497   0.070065  0.048476\n",
       "3 2020-09-01  3363.000000  42.423027  -0.039228 -0.003230\n",
       "4 2020-10-01  3269.959961  41.631653  -0.027666 -0.018654\n",
       "5 2020-11-01  3621.629883  44.698151   0.107546  0.073658"
      ]
     },
     "metadata": {},
     "output_type": "display_data"
    },
    {
     "name": "stdout",
     "output_type": "stream",
     "text": [
      "                            OLS Regression Results                            \n",
      "==============================================================================\n",
      "Dep. Variable:               MSFT_ret   R-squared:                       0.171\n",
      "Model:                            OLS   Adj. R-squared:                  0.157\n",
      "Method:                 Least Squares   F-statistic:                     12.19\n",
      "Date:                Sat, 02 Aug 2025   Prob (F-statistic):           0.000918\n",
      "Time:                        12:14:51   Log-Likelihood:                 101.63\n",
      "No. Observations:                  61   AIC:                            -199.3\n",
      "Df Residuals:                      59   BIC:                            -195.0\n",
      "Df Model:                           1                                         \n",
      "Covariance Type:            nonrobust                                         \n",
      "==============================================================================\n",
      "                 coef    std err          t      P>|t|      [0.025      0.975]\n",
      "------------------------------------------------------------------------------\n",
      "const          0.0050      0.006      0.810      0.421      -0.007       0.017\n",
      "SP500_ret      0.4500      0.129      3.491      0.001       0.192       0.708\n",
      "==============================================================================\n",
      "Omnibus:                        1.276   Durbin-Watson:                   2.023\n",
      "Prob(Omnibus):                  0.528   Jarque-Bera (JB):                0.608\n",
      "Skew:                           0.119   Prob(JB):                        0.738\n",
      "Kurtosis:                       3.427   Cond. No.                         21.7\n",
      "==============================================================================\n",
      "\n",
      "Notes:\n",
      "[1] Standard Errors assume that the covariance matrix of the errors is correctly specified.\n"
     ]
    }
   ],
   "source": [
    "sp500=yf.download('^GSPC', start='2020-06-01', interval='1mo',auto_adjust=True)\n",
    "msft=yf.download('KO', start='2020-06-01', interval='1mo',auto_adjust=True)\n",
    "\n",
    "sp500=sp500[['Close']].reset_index()\n",
    "msft=msft[['Close']].reset_index()\n",
    "\n",
    "#Renombrar columnas\n",
    "sp500.columns=['Date','SP500']\n",
    "msft.columns=['Date','MSFT']\n",
    "\n",
    "merged=pd.merge(sp500, msft, on='Date',how='inner')\n",
    "\n",
    "#Calcular los retornos\n",
    "merged['SP500_ret'] = merged['SP500'].pct_change()\n",
    "merged['MSFT_ret'] = merged['MSFT'].pct_change() \n",
    "\n",
    "df_reg=merged.iloc[1:-1].copy()\n",
    "display(df_reg.head())\n",
    "y=df_reg['MSFT_ret']\n",
    "X=sm.add_constant(df_reg['SP500_ret'])\n",
    "reg_msft=sm.OLS(y,X).fit()\n",
    "print(reg_msft.summary())"
   ]
  },
  {
   "cell_type": "code",
   "execution_count": 31,
   "id": "095b0712",
   "metadata": {},
   "outputs": [],
   "source": [
    "\n",
    "#Calcular beta de una acción respecto al S&P 500\n",
    "def calcular_beta(ticker):\n",
    "\n",
    "    sp500 = yf.download('^GSPC', start='2020-06-01',interval='1mo',auto_adjust=True)\n",
    "\n",
    "    # Descargar datos de la acción\n",
    "    accion = yf.download(ticker, start='2020-06-01',interval='1mo',auto_adjust=True)\n",
    "    \n",
    "    # Calcular retornos diarios\n",
    "    sp500['Retorno_SPY'] = sp500['Close'].pct_change()\n",
    "    accion['Retorno_MF'] = accion['Close'].pct_change()\n",
    "    \n",
    "    # Eliminar filas con valores NaN\n",
    "    data = pd.concat([sp500['Retorno_SPY'], accion['Retorno_MF']], axis=1).dropna()\n",
    "    display(data.head())\n",
    "    # Ajustar el modelo de regresión lineal\n",
    "    modelo = sm.OLS(data['Retorno_MF'], sm.add_constant(data['Retorno_SPY'])).fit()\n",
    "    \n",
    "    return modelo.params[1]  # Retorna la beta"
   ]
  },
  {
   "cell_type": "code",
   "execution_count": 32,
   "id": "8afe7b2e",
   "metadata": {},
   "outputs": [
    {
     "name": "stderr",
     "output_type": "stream",
     "text": [
      "[*********************100%***********************]  1 of 1 completed\n",
      "[*********************100%***********************]  1 of 1 completed\n"
     ]
    },
    {
     "data": {
      "text/html": [
       "<div>\n",
       "<style scoped>\n",
       "    .dataframe tbody tr th:only-of-type {\n",
       "        vertical-align: middle;\n",
       "    }\n",
       "\n",
       "    .dataframe tbody tr th {\n",
       "        vertical-align: top;\n",
       "    }\n",
       "\n",
       "    .dataframe thead th {\n",
       "        text-align: right;\n",
       "    }\n",
       "</style>\n",
       "<table border=\"1\" class=\"dataframe\">\n",
       "  <thead>\n",
       "    <tr style=\"text-align: right;\">\n",
       "      <th></th>\n",
       "      <th>Retorno_SPY</th>\n",
       "      <th>Retorno_MF</th>\n",
       "    </tr>\n",
       "    <tr>\n",
       "      <th>Date</th>\n",
       "      <th></th>\n",
       "      <th></th>\n",
       "    </tr>\n",
       "  </thead>\n",
       "  <tbody>\n",
       "    <tr>\n",
       "      <th>2020-07-01</th>\n",
       "      <td>0.055101</td>\n",
       "      <td>0.007371</td>\n",
       "    </tr>\n",
       "    <tr>\n",
       "      <th>2020-08-01</th>\n",
       "      <td>0.070065</td>\n",
       "      <td>0.100093</td>\n",
       "    </tr>\n",
       "    <tr>\n",
       "      <th>2020-09-01</th>\n",
       "      <td>-0.039228</td>\n",
       "      <td>-0.065142</td>\n",
       "    </tr>\n",
       "    <tr>\n",
       "      <th>2020-10-01</th>\n",
       "      <td>-0.027666</td>\n",
       "      <td>-0.037370</td>\n",
       "    </tr>\n",
       "    <tr>\n",
       "      <th>2020-11-01</th>\n",
       "      <td>0.107546</td>\n",
       "      <td>0.057293</td>\n",
       "    </tr>\n",
       "  </tbody>\n",
       "</table>\n",
       "</div>"
      ],
      "text/plain": [
       "            Retorno_SPY  Retorno_MF\n",
       "Date                               \n",
       "2020-07-01     0.055101    0.007371\n",
       "2020-08-01     0.070065    0.100093\n",
       "2020-09-01    -0.039228   -0.065142\n",
       "2020-10-01    -0.027666   -0.037370\n",
       "2020-11-01     0.107546    0.057293"
      ]
     },
     "metadata": {},
     "output_type": "display_data"
    },
    {
     "name": "stdout",
     "output_type": "stream",
     "text": [
      "1.0295425827397306\n"
     ]
    },
    {
     "name": "stderr",
     "output_type": "stream",
     "text": [
      "/var/folders/jr/t_k402pj3bg57t7p56rgmknr0000gn/T/ipykernel_2448/3447652064.py:19: FutureWarning: Series.__getitem__ treating keys as positions is deprecated. In a future version, integer keys will always be treated as labels (consistent with DataFrame behavior). To access a value by position, use `ser.iloc[pos]`\n",
      "  return modelo.params[1]  # Retorna la beta\n"
     ]
    }
   ],
   "source": [
    "print(calcular_beta('MSFT'))"
   ]
  },
  {
   "cell_type": "markdown",
   "id": "231c4deb",
   "metadata": {},
   "source": [
    "### Laboratorio: \n",
    "#### Aca generarmos las series de tiemo de ejemplo para ver que pinta tiene"
   ]
  },
  {
   "cell_type": "code",
   "execution_count": 9,
   "id": "080cbca6",
   "metadata": {},
   "outputs": [
    {
     "name": "stdout",
     "output_type": "stream",
     "text": [
      "Estadístico ADF: -9.520077013471598\n",
      "Valor p: 3.0816939063257074e-16\n",
      "Valores críticos:\n",
      "  1%: -3.498198082189098\n",
      "  5%: -2.891208211860468\n",
      "  10%: -2.5825959973472097\n"
     ]
    }
   ],
   "source": [
    "rho=0.7\n",
    "sigma=1\n",
    "df=pd.DataFrame(np.random.normal(loc=0, scale=1, size=100),columns=['ruido_blanco'])\n",
    "\n",
    "## Ahora aplicamos el test de df a ver que me dice. \n",
    "\n",
    "from statsmodels.tsa.stattools import adfuller \n",
    "def test_dickey_fuller(series):\n",
    "    \"\"\"Realiza la prueba de Dickey-Fuller aumentado.\"\"\"\n",
    "    result = adfuller(series, autolag='AIC')\n",
    "    print(f'Estadístico ADF: {result[0]}')\n",
    "    print(f'Valor p: {result[1]}')\n",
    "    print('Valores críticos:')\n",
    "    for key, value in result[4].items():\n",
    "        print(f'  {key}: {value}')\n",
    "\n",
    "test_dickey_fuller(df['ruido_blanco'])\n",
    "\n",
    "## El p-value es significativo por o tanto la serie es Estacionaria???\n",
    "\n",
    "### Hipótesis nula H0: la serie tiene una raíz unitaria (no estacionaria).\n",
    "### Hipógtesis alternativa H1: la serie es estacionaria\n",
    "## como el p-value es significativo, dado que el estaditico ADF esta mas a la izquierda que cualquier valor crítico RH0 y por lo tanto es estacionaria"
   ]
  }
 ],
 "metadata": {
  "kernelspec": {
   "display_name": "islp",
   "language": "python",
   "name": "python3"
  },
  "language_info": {
   "codemirror_mode": {
    "name": "ipython",
    "version": 3
   },
   "file_extension": ".py",
   "mimetype": "text/x-python",
   "name": "python",
   "nbconvert_exporter": "python",
   "pygments_lexer": "ipython3",
   "version": "3.12.11"
  }
 },
 "nbformat": 4,
 "nbformat_minor": 5
}
