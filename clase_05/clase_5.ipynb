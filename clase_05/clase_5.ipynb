{
 "cells": [
  {
   "cell_type": "code",
   "execution_count": 4,
   "id": "961126e7",
   "metadata": {},
   "outputs": [],
   "source": [
    "import pandas as pd\n",
    "import numpy as np\n",
    "import statsmodels.api as sm\n",
    "import statsmodels.formula.api as smf\n",
    "import matplotlib.pyplot as plt\n",
    "from scipy import stats\n",
    "import statsmodels.stats.api as sms"
   ]
  },
  {
   "cell_type": "markdown",
   "id": "574f2218",
   "metadata": {},
   "source": [
    "### Documentacion de stats model: https://www.statsmodels.org/stable/generated/statsmodels.regression.linear_model.OLSResults.t_test.html#statsmodels.regression.linear_model.OLSResults.t_test"
   ]
  },
  {
   "cell_type": "code",
   "execution_count": 5,
   "id": "0c97fe9c",
   "metadata": {},
   "outputs": [
    {
     "data": {
      "text/html": [
       "<div>\n",
       "<style scoped>\n",
       "    .dataframe tbody tr th:only-of-type {\n",
       "        vertical-align: middle;\n",
       "    }\n",
       "\n",
       "    .dataframe tbody tr th {\n",
       "        vertical-align: top;\n",
       "    }\n",
       "\n",
       "    .dataframe thead th {\n",
       "        text-align: right;\n",
       "    }\n",
       "</style>\n",
       "<table border=\"1\" class=\"dataframe\">\n",
       "  <thead>\n",
       "    <tr style=\"text-align: right;\">\n",
       "      <th></th>\n",
       "      <th>PRECIO</th>\n",
       "      <th>LOTE</th>\n",
       "      <th>CUARTOS</th>\n",
       "      <th>BANOS</th>\n",
       "      <th>PISOS</th>\n",
       "      <th>ENTRADA</th>\n",
       "      <th>REC</th>\n",
       "      <th>SOTANO</th>\n",
       "      <th>CALEF</th>\n",
       "      <th>AIRE</th>\n",
       "      <th>GARAGE</th>\n",
       "      <th>NBHD</th>\n",
       "    </tr>\n",
       "  </thead>\n",
       "  <tbody>\n",
       "    <tr>\n",
       "      <th>0</th>\n",
       "      <td>42000</td>\n",
       "      <td>5850</td>\n",
       "      <td>3</td>\n",
       "      <td>1</td>\n",
       "      <td>2</td>\n",
       "      <td>1</td>\n",
       "      <td>0</td>\n",
       "      <td>1</td>\n",
       "      <td>0</td>\n",
       "      <td>0</td>\n",
       "      <td>1</td>\n",
       "      <td>0</td>\n",
       "    </tr>\n",
       "    <tr>\n",
       "      <th>1</th>\n",
       "      <td>38500</td>\n",
       "      <td>4000</td>\n",
       "      <td>2</td>\n",
       "      <td>1</td>\n",
       "      <td>1</td>\n",
       "      <td>1</td>\n",
       "      <td>0</td>\n",
       "      <td>0</td>\n",
       "      <td>0</td>\n",
       "      <td>0</td>\n",
       "      <td>0</td>\n",
       "      <td>0</td>\n",
       "    </tr>\n",
       "    <tr>\n",
       "      <th>2</th>\n",
       "      <td>49500</td>\n",
       "      <td>3060</td>\n",
       "      <td>3</td>\n",
       "      <td>1</td>\n",
       "      <td>1</td>\n",
       "      <td>1</td>\n",
       "      <td>0</td>\n",
       "      <td>0</td>\n",
       "      <td>0</td>\n",
       "      <td>0</td>\n",
       "      <td>0</td>\n",
       "      <td>0</td>\n",
       "    </tr>\n",
       "    <tr>\n",
       "      <th>3</th>\n",
       "      <td>60500</td>\n",
       "      <td>6650</td>\n",
       "      <td>3</td>\n",
       "      <td>1</td>\n",
       "      <td>2</td>\n",
       "      <td>1</td>\n",
       "      <td>1</td>\n",
       "      <td>0</td>\n",
       "      <td>0</td>\n",
       "      <td>0</td>\n",
       "      <td>0</td>\n",
       "      <td>0</td>\n",
       "    </tr>\n",
       "    <tr>\n",
       "      <th>4</th>\n",
       "      <td>61000</td>\n",
       "      <td>6360</td>\n",
       "      <td>2</td>\n",
       "      <td>1</td>\n",
       "      <td>1</td>\n",
       "      <td>1</td>\n",
       "      <td>0</td>\n",
       "      <td>0</td>\n",
       "      <td>0</td>\n",
       "      <td>0</td>\n",
       "      <td>0</td>\n",
       "      <td>0</td>\n",
       "    </tr>\n",
       "  </tbody>\n",
       "</table>\n",
       "</div>"
      ],
      "text/plain": [
       "   PRECIO  LOTE  CUARTOS  BANOS  PISOS  ...  SOTANO  CALEF  AIRE  GARAGE  NBHD\n",
       "0   42000  5850        3      1      2  ...       1      0     0       1     0\n",
       "1   38500  4000        2      1      1  ...       0      0     0       0     0\n",
       "2   49500  3060        3      1      1  ...       0      0     0       0     0\n",
       "3   60500  6650        3      1      2  ...       0      0     0       0     0\n",
       "4   61000  6360        2      1      1  ...       0      0     0       0     0\n",
       "\n",
       "[5 rows x 12 columns]"
      ]
     },
     "metadata": {},
     "output_type": "display_data"
    }
   ],
   "source": [
    "df_casa = pd.read_excel('./Ejemplo_Casa.xls')\n",
    "display(df_casa.head())"
   ]
  },
  {
   "cell_type": "code",
   "execution_count": 6,
   "id": "187ab411",
   "metadata": {},
   "outputs": [
    {
     "data": {
      "text/html": [
       "<table class=\"simpletable\">\n",
       "<caption>OLS Regression Results</caption>\n",
       "<tr>\n",
       "  <th>Dep. Variable:</th>         <td>PRECIO</td>      <th>  R-squared:         </th> <td>   0.673</td> \n",
       "</tr>\n",
       "<tr>\n",
       "  <th>Model:</th>                   <td>OLS</td>       <th>  Adj. R-squared:    </th> <td>   0.666</td> \n",
       "</tr>\n",
       "<tr>\n",
       "  <th>Method:</th>             <td>Least Squares</td>  <th>  F-statistic:       </th> <td>   99.97</td> \n",
       "</tr>\n",
       "<tr>\n",
       "  <th>Date:</th>             <td>Wed, 30 Jul 2025</td> <th>  Prob (F-statistic):</th> <td>6.18e-122</td>\n",
       "</tr>\n",
       "<tr>\n",
       "  <th>Time:</th>                 <td>12:23:24</td>     <th>  Log-Likelihood:    </th> <td> -6034.1</td> \n",
       "</tr>\n",
       "<tr>\n",
       "  <th>No. Observations:</th>      <td>   546</td>      <th>  AIC:               </th> <td>1.209e+04</td>\n",
       "</tr>\n",
       "<tr>\n",
       "  <th>Df Residuals:</th>          <td>   534</td>      <th>  BIC:               </th> <td>1.214e+04</td>\n",
       "</tr>\n",
       "<tr>\n",
       "  <th>Df Model:</th>              <td>    11</td>      <th>                     </th>     <td> </td>    \n",
       "</tr>\n",
       "<tr>\n",
       "  <th>Covariance Type:</th>      <td>nonrobust</td>    <th>                     </th>     <td> </td>    \n",
       "</tr>\n",
       "</table>\n",
       "<table class=\"simpletable\">\n",
       "<tr>\n",
       "     <td></td>        <th>coef</th>     <th>std err</th>      <th>t</th>      <th>P>|t|</th>  <th>[0.025</th>    <th>0.975]</th>  \n",
       "</tr>\n",
       "<tr>\n",
       "  <th>const</th>   <td>-4038.3504</td> <td> 3409.471</td> <td>   -1.184</td> <td> 0.237</td> <td>-1.07e+04</td> <td> 2659.271</td>\n",
       "</tr>\n",
       "<tr>\n",
       "  <th>LOTE</th>    <td>    3.5463</td> <td>    0.350</td> <td>   10.124</td> <td> 0.000</td> <td>    2.858</td> <td>    4.234</td>\n",
       "</tr>\n",
       "<tr>\n",
       "  <th>CUARTOS</th> <td> 1832.0035</td> <td> 1047.000</td> <td>    1.750</td> <td> 0.081</td> <td> -224.741</td> <td> 3888.748</td>\n",
       "</tr>\n",
       "<tr>\n",
       "  <th>BANOS</th>   <td> 1.434e+04</td> <td> 1489.921</td> <td>    9.622</td> <td> 0.000</td> <td> 1.14e+04</td> <td> 1.73e+04</td>\n",
       "</tr>\n",
       "<tr>\n",
       "  <th>PISOS</th>   <td> 6556.9457</td> <td>  925.290</td> <td>    7.086</td> <td> 0.000</td> <td> 4739.291</td> <td> 8374.600</td>\n",
       "</tr>\n",
       "<tr>\n",
       "  <th>ENTRADA</th> <td> 6687.7789</td> <td> 2045.246</td> <td>    3.270</td> <td> 0.001</td> <td> 2670.065</td> <td> 1.07e+04</td>\n",
       "</tr>\n",
       "<tr>\n",
       "  <th>REC</th>     <td> 4511.2838</td> <td> 1899.958</td> <td>    2.374</td> <td> 0.018</td> <td>  778.976</td> <td> 8243.592</td>\n",
       "</tr>\n",
       "<tr>\n",
       "  <th>SOTANO</th>  <td> 5452.3855</td> <td> 1588.024</td> <td>    3.433</td> <td> 0.001</td> <td> 2332.845</td> <td> 8571.926</td>\n",
       "</tr>\n",
       "<tr>\n",
       "  <th>CALEF</th>   <td> 1.283e+04</td> <td> 3217.597</td> <td>    3.988</td> <td> 0.000</td> <td> 6510.706</td> <td> 1.92e+04</td>\n",
       "</tr>\n",
       "<tr>\n",
       "  <th>AIRE</th>    <td> 1.263e+04</td> <td> 1555.021</td> <td>    8.124</td> <td> 0.000</td> <td> 9578.182</td> <td> 1.57e+04</td>\n",
       "</tr>\n",
       "<tr>\n",
       "  <th>GARAGE</th>  <td> 4244.8290</td> <td>  840.544</td> <td>    5.050</td> <td> 0.000</td> <td> 2593.650</td> <td> 5896.008</td>\n",
       "</tr>\n",
       "<tr>\n",
       "  <th>NBHD</th>    <td> 9369.5132</td> <td> 1669.091</td> <td>    5.614</td> <td> 0.000</td> <td> 6090.724</td> <td> 1.26e+04</td>\n",
       "</tr>\n",
       "</table>\n",
       "<table class=\"simpletable\">\n",
       "<tr>\n",
       "  <th>Omnibus:</th>       <td>93.454</td> <th>  Durbin-Watson:     </th> <td>   1.604</td>\n",
       "</tr>\n",
       "<tr>\n",
       "  <th>Prob(Omnibus):</th> <td> 0.000</td> <th>  Jarque-Bera (JB):  </th> <td> 247.620</td>\n",
       "</tr>\n",
       "<tr>\n",
       "  <th>Skew:</th>          <td> 0.853</td> <th>  Prob(JB):          </th> <td>1.70e-54</td>\n",
       "</tr>\n",
       "<tr>\n",
       "  <th>Kurtosis:</th>      <td> 5.824</td> <th>  Cond. No.          </th> <td>3.07e+04</td>\n",
       "</tr>\n",
       "</table><br/><br/>Notes:<br/>[1] Standard Errors assume that the covariance matrix of the errors is correctly specified.<br/>[2] The condition number is large, 3.07e+04. This might indicate that there are<br/>strong multicollinearity or other numerical problems."
      ],
      "text/latex": [
       "\\begin{center}\n",
       "\\begin{tabular}{lclc}\n",
       "\\toprule\n",
       "\\textbf{Dep. Variable:}    &      PRECIO      & \\textbf{  R-squared:         } &     0.673   \\\\\n",
       "\\textbf{Model:}            &       OLS        & \\textbf{  Adj. R-squared:    } &     0.666   \\\\\n",
       "\\textbf{Method:}           &  Least Squares   & \\textbf{  F-statistic:       } &     99.97   \\\\\n",
       "\\textbf{Date:}             & Wed, 30 Jul 2025 & \\textbf{  Prob (F-statistic):} & 6.18e-122   \\\\\n",
       "\\textbf{Time:}             &     12:23:24     & \\textbf{  Log-Likelihood:    } &   -6034.1   \\\\\n",
       "\\textbf{No. Observations:} &         546      & \\textbf{  AIC:               } & 1.209e+04   \\\\\n",
       "\\textbf{Df Residuals:}     &         534      & \\textbf{  BIC:               } & 1.214e+04   \\\\\n",
       "\\textbf{Df Model:}         &          11      & \\textbf{                     } &             \\\\\n",
       "\\textbf{Covariance Type:}  &    nonrobust     & \\textbf{                     } &             \\\\\n",
       "\\bottomrule\n",
       "\\end{tabular}\n",
       "\\begin{tabular}{lcccccc}\n",
       "                 & \\textbf{coef} & \\textbf{std err} & \\textbf{t} & \\textbf{P$> |$t$|$} & \\textbf{[0.025} & \\textbf{0.975]}  \\\\\n",
       "\\midrule\n",
       "\\textbf{const}   &   -4038.3504  &     3409.471     &    -1.184  &         0.237        &    -1.07e+04    &     2659.271     \\\\\n",
       "\\textbf{LOTE}    &       3.5463  &        0.350     &    10.124  &         0.000        &        2.858    &        4.234     \\\\\n",
       "\\textbf{CUARTOS} &    1832.0035  &     1047.000     &     1.750  &         0.081        &     -224.741    &     3888.748     \\\\\n",
       "\\textbf{BANOS}   &    1.434e+04  &     1489.921     &     9.622  &         0.000        &     1.14e+04    &     1.73e+04     \\\\\n",
       "\\textbf{PISOS}   &    6556.9457  &      925.290     &     7.086  &         0.000        &     4739.291    &     8374.600     \\\\\n",
       "\\textbf{ENTRADA} &    6687.7789  &     2045.246     &     3.270  &         0.001        &     2670.065    &     1.07e+04     \\\\\n",
       "\\textbf{REC}     &    4511.2838  &     1899.958     &     2.374  &         0.018        &      778.976    &     8243.592     \\\\\n",
       "\\textbf{SOTANO}  &    5452.3855  &     1588.024     &     3.433  &         0.001        &     2332.845    &     8571.926     \\\\\n",
       "\\textbf{CALEF}   &    1.283e+04  &     3217.597     &     3.988  &         0.000        &     6510.706    &     1.92e+04     \\\\\n",
       "\\textbf{AIRE}    &    1.263e+04  &     1555.021     &     8.124  &         0.000        &     9578.182    &     1.57e+04     \\\\\n",
       "\\textbf{GARAGE}  &    4244.8290  &      840.544     &     5.050  &         0.000        &     2593.650    &     5896.008     \\\\\n",
       "\\textbf{NBHD}    &    9369.5132  &     1669.091     &     5.614  &         0.000        &     6090.724    &     1.26e+04     \\\\\n",
       "\\bottomrule\n",
       "\\end{tabular}\n",
       "\\begin{tabular}{lclc}\n",
       "\\textbf{Omnibus:}       & 93.454 & \\textbf{  Durbin-Watson:     } &    1.604  \\\\\n",
       "\\textbf{Prob(Omnibus):} &  0.000 & \\textbf{  Jarque-Bera (JB):  } &  247.620  \\\\\n",
       "\\textbf{Skew:}          &  0.853 & \\textbf{  Prob(JB):          } & 1.70e-54  \\\\\n",
       "\\textbf{Kurtosis:}      &  5.824 & \\textbf{  Cond. No.          } & 3.07e+04  \\\\\n",
       "\\bottomrule\n",
       "\\end{tabular}\n",
       "%\\caption{OLS Regression Results}\n",
       "\\end{center}\n",
       "\n",
       "Notes: \\newline\n",
       " [1] Standard Errors assume that the covariance matrix of the errors is correctly specified. \\newline\n",
       " [2] The condition number is large, 3.07e+04. This might indicate that there are \\newline\n",
       " strong multicollinearity or other numerical problems."
      ],
      "text/plain": [
       "<class 'statsmodels.iolib.summary.Summary'>\n",
       "\"\"\"\n",
       "                            OLS Regression Results                            \n",
       "==============================================================================\n",
       "Dep. Variable:                 PRECIO   R-squared:                       0.673\n",
       "Model:                            OLS   Adj. R-squared:                  0.666\n",
       "Method:                 Least Squares   F-statistic:                     99.97\n",
       "Date:                Wed, 30 Jul 2025   Prob (F-statistic):          6.18e-122\n",
       "Time:                        12:23:24   Log-Likelihood:                -6034.1\n",
       "No. Observations:                 546   AIC:                         1.209e+04\n",
       "Df Residuals:                     534   BIC:                         1.214e+04\n",
       "Df Model:                          11                                         \n",
       "Covariance Type:            nonrobust                                         \n",
       "==============================================================================\n",
       "                 coef    std err          t      P>|t|      [0.025      0.975]\n",
       "------------------------------------------------------------------------------\n",
       "const      -4038.3504   3409.471     -1.184      0.237   -1.07e+04    2659.271\n",
       "LOTE           3.5463      0.350     10.124      0.000       2.858       4.234\n",
       "CUARTOS     1832.0035   1047.000      1.750      0.081    -224.741    3888.748\n",
       "BANOS       1.434e+04   1489.921      9.622      0.000    1.14e+04    1.73e+04\n",
       "PISOS       6556.9457    925.290      7.086      0.000    4739.291    8374.600\n",
       "ENTRADA     6687.7789   2045.246      3.270      0.001    2670.065    1.07e+04\n",
       "REC         4511.2838   1899.958      2.374      0.018     778.976    8243.592\n",
       "SOTANO      5452.3855   1588.024      3.433      0.001    2332.845    8571.926\n",
       "CALEF       1.283e+04   3217.597      3.988      0.000    6510.706    1.92e+04\n",
       "AIRE        1.263e+04   1555.021      8.124      0.000    9578.182    1.57e+04\n",
       "GARAGE      4244.8290    840.544      5.050      0.000    2593.650    5896.008\n",
       "NBHD        9369.5132   1669.091      5.614      0.000    6090.724    1.26e+04\n",
       "==============================================================================\n",
       "Omnibus:                       93.454   Durbin-Watson:                   1.604\n",
       "Prob(Omnibus):                  0.000   Jarque-Bera (JB):              247.620\n",
       "Skew:                           0.853   Prob(JB):                     1.70e-54\n",
       "Kurtosis:                       5.824   Cond. No.                     3.07e+04\n",
       "==============================================================================\n",
       "\n",
       "Notes:\n",
       "[1] Standard Errors assume that the covariance matrix of the errors is correctly specified.\n",
       "[2] The condition number is large, 3.07e+04. This might indicate that there are\n",
       "strong multicollinearity or other numerical problems.\n",
       "\"\"\""
      ]
     },
     "metadata": {},
     "output_type": "display_data"
    }
   ],
   "source": [
    "y=df_casa['PRECIO']\n",
    "X=sm.add_constant(df_casa.drop(columns='PRECIO'))\n",
    "\n",
    "reg_casa=sm.OLS(y,X).fit()\n",
    "display(reg_casa.summary())"
   ]
  },
  {
   "cell_type": "markdown",
   "id": "7d208ec5",
   "metadata": {},
   "source": [
    "### Test de hipótesis\n",
    "Tomo la regresora $\\hat\\beta$\n",
    "$$\n",
    " H_0: \\hat\\beta=0\n",
    " \\\\\n",
    " H_1: \\hat\\beta <>0\n",
    "$$\n",
    "Donde reg=0 implica que no es significativo y <> que que si lo es, por lo tanto explica a X"
   ]
  },
  {
   "cell_type": "code",
   "execution_count": 7,
   "id": "c2822703",
   "metadata": {},
   "outputs": [
    {
     "data": {
      "text/plain": [
       "<class 'statsmodels.stats.contrast.ContrastResults'>\n",
       "                             Test for Constraints                             \n",
       "==============================================================================\n",
       "                 coef    std err          t      P>|t|      [0.025      0.975]\n",
       "------------------------------------------------------------------------------\n",
       "c0          1832.0035   1047.000      1.750      0.081    -224.741    3888.748\n",
       "=============================================================================="
      ]
     },
     "metadata": {},
     "output_type": "display_data"
    }
   ],
   "source": [
    "#Hacemos un t-test para los cuartos\n",
    "\n",
    "display(reg_casa.t_test(\"CUARTOS=0\"))"
   ]
  },
  {
   "cell_type": "markdown",
   "id": "c6b18fe1",
   "metadata": {},
   "source": [
    "Podemos reconstruir el IC de la siguiente forma\n",
    "\n",
    "$$\n",
    "\\hat{\\beta} \\pm t_{\\alpha/2, \\, gl} \\cdot \\text{SE}(\\hat{\\beta})\n",
    "$$\n",
    "\n",
    "para este estimador la cuenta seria\n",
    "\n",
    "$$\n",
    "    1832 \\pm 1.96 *1047\n",
    "$$\n",
    "\n",
    "El valor t que aprece en la regresión es el t observado, el t que usamos para el intervalo de confianza es el valor crítico para la distribución t-student, que como es muy grande (534) se asemeja al valor de la normal.\n",
    "\n",
    "En función del p-value podemos ver que es significativo al 10% pero no al 5% porque es 0.081 (8%)"
   ]
  },
  {
   "cell_type": "markdown",
   "id": "ffb4c869",
   "metadata": {},
   "source": [
    "### Intervalo de confianza"
   ]
  },
  {
   "cell_type": "code",
   "execution_count": 8,
   "id": "faf1749e",
   "metadata": {},
   "outputs": [
    {
     "data": {
      "text/plain": [
       "0    2.858168\n",
       "1    4.234438\n",
       "Name: LOTE, dtype: float64"
      ]
     },
     "metadata": {},
     "output_type": "display_data"
    }
   ],
   "source": [
    "display(reg_casa.conf_int(alpha=0.05).loc[\"LOTE\"])"
   ]
  },
  {
   "cell_type": "markdown",
   "id": "438175b3",
   "metadata": {},
   "source": [
    "### Test F\n",
    "Estos test sirven para detectar multicolinealidad. Si el p-value es significativo==> rechazo H0. \n",
    "En este caso la H0 es que los coeficiente en su conjunto son 0, es decir existe multicolinealidad. \n",
    "En caso de NRH0 entonces HAY MULTICOLINEADAD si el p-value no es significativo."
   ]
  },
  {
   "cell_type": "code",
   "execution_count": 9,
   "id": "9ff8e544",
   "metadata": {},
   "outputs": [
    {
     "name": "stdout",
     "output_type": "stream",
     "text": [
      "<F test: F=36.888750867416185, p=9.856033740435273e-16, df_denom=534, df_num=2>\n"
     ]
    }
   ],
   "source": [
    "print(reg_casa.f_test(\"CALEF=0, AIRE=0\"))"
   ]
  },
  {
   "cell_type": "code",
   "execution_count": 10,
   "id": "620f9e97",
   "metadata": {},
   "outputs": [
    {
     "name": "stdout",
     "output_type": "stream",
     "text": [
      "                            OLS Regression Results                            \n",
      "==============================================================================\n",
      "Dep. Variable:                 PRECIO   R-squared:                       0.665\n",
      "Model:                            OLS   Adj. R-squared:                  0.658\n",
      "Method:                 Least Squares   F-statistic:                     96.14\n",
      "Date:                Wed, 30 Jul 2025   Prob (F-statistic):          7.67e-119\n",
      "Time:                        12:23:24   Log-Likelihood:                -6022.2\n",
      "No. Observations:                 545   AIC:                         1.207e+04\n",
      "Df Residuals:                     533   BIC:                         1.212e+04\n",
      "Df Model:                          11                                         \n",
      "Covariance Type:            nonrobust                                         \n",
      "==============================================================================\n",
      "                 coef    std err          t      P>|t|      [0.025      0.975]\n",
      "------------------------------------------------------------------------------\n",
      "const      -3509.7393   3419.390     -1.026      0.305   -1.02e+04    3207.395\n",
      "LOTE           3.5341      0.350     10.102      0.000       2.847       4.221\n",
      "CUARTOS     1909.3244   1046.422      1.825      0.069    -146.293    3964.941\n",
      "BANOS       1.383e+04   1519.347      9.102      0.000    1.08e+04    1.68e+04\n",
      "PISOS       6492.6879    924.670      7.022      0.000    4676.244    8309.132\n",
      "ENTRADA     6722.7877   2042.146      3.292      0.001    2711.146    1.07e+04\n",
      "REC         4623.2425   1898.206      2.436      0.015     894.360    8352.125\n",
      "SOTANO      5506.6270   1585.876      3.472      0.001    2391.293    8621.961\n",
      "CALEF         1.3e+04   3214.103      4.043      0.000    6681.465    1.93e+04\n",
      "AIRE        1.262e+04   1552.591      8.130      0.000    9572.753    1.57e+04\n",
      "GARAGE      4139.8173    841.671      4.919      0.000    2486.418    5793.216\n",
      "NBHD        9469.9610   1667.598      5.679      0.000    6194.090    1.27e+04\n",
      "==============================================================================\n",
      "Omnibus:                       97.367   Durbin-Watson:                   1.595\n",
      "Prob(Omnibus):                  0.000   Jarque-Bera (JB):              263.699\n",
      "Skew:                           0.881   Prob(JB):                     5.48e-58\n",
      "Kurtosis:                       5.917   Cond. No.                     3.08e+04\n",
      "==============================================================================\n",
      "\n",
      "Notes:\n",
      "[1] Standard Errors assume that the covariance matrix of the errors is correctly specified.\n",
      "[2] The condition number is large, 3.08e+04. This might indicate that there are\n",
      "strong multicollinearity or other numerical problems.\n"
     ]
    }
   ],
   "source": [
    "df_casa_filtrado=df_casa[df_casa['BANOS']!=4].copy()\n",
    "y1=df_casa_filtrado['PRECIO']\n",
    "X1=sm.add_constant(df_casa_filtrado.drop(columns='PRECIO'))\n",
    "\n",
    "\n",
    "reg_casa_2=sm.OLS(y1,X1).fit()\n",
    "print(reg_casa_2.summary())"
   ]
  },
  {
   "cell_type": "markdown",
   "id": "5e5379df",
   "metadata": {},
   "source": [
    "## Variables Dummy"
   ]
  },
  {
   "cell_type": "code",
   "execution_count": 11,
   "id": "4e01187c",
   "metadata": {},
   "outputs": [
    {
     "name": "stdout",
     "output_type": "stream",
     "text": [
      "                            OLS Regression Results                            \n",
      "==============================================================================\n",
      "Dep. Variable:                 PRECIO   R-squared:                       0.665\n",
      "Model:                            OLS   Adj. R-squared:                  0.657\n",
      "Method:                 Least Squares   F-statistic:                     88.01\n",
      "Date:                Wed, 30 Jul 2025   Prob (F-statistic):          7.04e-118\n",
      "Time:                        12:23:24   Log-Likelihood:                -6022.1\n",
      "No. Observations:                 545   AIC:                         1.207e+04\n",
      "Df Residuals:                     532   BIC:                         1.213e+04\n",
      "Df Model:                          12                                         \n",
      "Covariance Type:            nonrobust                                         \n",
      "==============================================================================\n",
      "                 coef    std err          t      P>|t|      [0.025      0.975]\n",
      "------------------------------------------------------------------------------\n",
      "const       1.031e+04   3464.573      2.976      0.003    3503.032    1.71e+04\n",
      "LOTE           3.5268      0.351     10.062      0.000       2.838       4.215\n",
      "CUARTOS     1902.8737   1047.336      1.817      0.070    -154.547    3960.295\n",
      "PISOS       6527.3156    928.943      7.027      0.000    4702.469    8352.162\n",
      "ENTRADA     6747.2925   2044.525      3.300      0.001    2730.960    1.08e+04\n",
      "REC         4623.6067   1899.665      2.434      0.015     891.842    8355.371\n",
      "SOTANO      5521.0982   1587.458      3.478      0.001    2402.642    8639.554\n",
      "CALEF       1.302e+04   3217.108      4.047      0.000    6700.508    1.93e+04\n",
      "AIRE         1.27e+04   1563.394      8.121      0.000    9625.256    1.58e+04\n",
      "GARAGE      4141.7535    842.330      4.917      0.000    2487.052    5796.455\n",
      "NBHD        9496.8991   1670.077      5.687      0.000    6216.144    1.28e+04\n",
      "DB2         1.348e+04   1726.361      7.809      0.000    1.01e+04    1.69e+04\n",
      "DB3         2.939e+04   5079.824      5.786      0.000    1.94e+04    3.94e+04\n",
      "==============================================================================\n",
      "Omnibus:                       97.932   Durbin-Watson:                   1.597\n",
      "Prob(Omnibus):                  0.000   Jarque-Bera (JB):              268.530\n",
      "Skew:                           0.882   Prob(JB):                     4.89e-59\n",
      "Kurtosis:                       5.952   Cond. No.                     4.35e+04\n",
      "==============================================================================\n",
      "\n",
      "Notes:\n",
      "[1] Standard Errors assume that the covariance matrix of the errors is correctly specified.\n",
      "[2] The condition number is large, 4.35e+04. This might indicate that there are\n",
      "strong multicollinearity or other numerical problems.\n"
     ]
    }
   ],
   "source": [
    "df_casa_filtrado['DB2']=(df_casa_filtrado['BANOS']==2).astype(int)\n",
    "df_casa_filtrado['DB3']=(df_casa_filtrado['BANOS']==3).astype(int)\n",
    "\n",
    "X2=sm.add_constant(df_casa_filtrado.drop(columns=['PRECIO','BANOS'])) # Elimino la columna BANOS porque ya tengo las dummies\n",
    "\n",
    "reg_casa_3=sm.OLS(y1,X2).fit()\n",
    "print(reg_casa_3.summary())\n"
   ]
  },
  {
   "cell_type": "markdown",
   "id": "af71ce7e",
   "metadata": {},
   "source": [
    "### Esto es para ver cuanto se valora un baño mas"
   ]
  },
  {
   "cell_type": "code",
   "execution_count": 12,
   "id": "d03cebff",
   "metadata": {},
   "outputs": [
    {
     "name": "stdout",
     "output_type": "stream",
     "text": [
      "<F test: F=0.1815129172859376, p=0.6702485908495301, df_denom=532, df_num=1>\n"
     ]
    }
   ],
   "source": [
    "print(reg_casa_3.f_test(\"DB3= 2*DB2\"))"
   ]
  },
  {
   "cell_type": "markdown",
   "id": "5c5d898e",
   "metadata": {},
   "source": [
    "### Formula"
   ]
  },
  {
   "cell_type": "code",
   "execution_count": 13,
   "id": "7e1dc5b4",
   "metadata": {},
   "outputs": [
    {
     "name": "stdout",
     "output_type": "stream",
     "text": [
      "                            OLS Regression Results                            \n",
      "==============================================================================\n",
      "Dep. Variable:                 PRECIO   R-squared:                       0.665\n",
      "Model:                            OLS   Adj. R-squared:                  0.657\n",
      "Method:                 Least Squares   F-statistic:                     88.01\n",
      "Date:                Wed, 30 Jul 2025   Prob (F-statistic):          7.04e-118\n",
      "Time:                        12:23:24   Log-Likelihood:                -6022.1\n",
      "No. Observations:                 545   AIC:                         1.207e+04\n",
      "Df Residuals:                     532   BIC:                         1.213e+04\n",
      "Df Model:                          12                                         \n",
      "Covariance Type:            nonrobust                                         \n",
      "=================================================================================\n",
      "                    coef    std err          t      P>|t|      [0.025      0.975]\n",
      "---------------------------------------------------------------------------------\n",
      "Intercept      1.031e+04   3464.573      2.976      0.003    3503.032    1.71e+04\n",
      "C(BANOS)[T.2]  1.348e+04   1726.361      7.809      0.000    1.01e+04    1.69e+04\n",
      "C(BANOS)[T.3]  2.939e+04   5079.824      5.786      0.000    1.94e+04    3.94e+04\n",
      "LOTE              3.5268      0.351     10.062      0.000       2.838       4.215\n",
      "CUARTOS        1902.8737   1047.336      1.817      0.070    -154.547    3960.295\n",
      "PISOS          6527.3156    928.943      7.027      0.000    4702.469    8352.162\n",
      "ENTRADA        6747.2925   2044.525      3.300      0.001    2730.960    1.08e+04\n",
      "REC            4623.6067   1899.665      2.434      0.015     891.842    8355.371\n",
      "SOTANO         5521.0982   1587.458      3.478      0.001    2402.642    8639.554\n",
      "CALEF          1.302e+04   3217.108      4.047      0.000    6700.508    1.93e+04\n",
      "AIRE            1.27e+04   1563.394      8.121      0.000    9625.256    1.58e+04\n",
      "GARAGE         4141.7535    842.330      4.917      0.000    2487.052    5796.455\n",
      "NBHD           9496.8991   1670.077      5.687      0.000    6216.144    1.28e+04\n",
      "==============================================================================\n",
      "Omnibus:                       97.932   Durbin-Watson:                   1.597\n",
      "Prob(Omnibus):                  0.000   Jarque-Bera (JB):              268.530\n",
      "Skew:                           0.882   Prob(JB):                     4.89e-59\n",
      "Kurtosis:                       5.952   Cond. No.                     4.35e+04\n",
      "==============================================================================\n",
      "\n",
      "Notes:\n",
      "[1] Standard Errors assume that the covariance matrix of the errors is correctly specified.\n",
      "[2] The condition number is large, 4.35e+04. This might indicate that there are\n",
      "strong multicollinearity or other numerical problems.\n"
     ]
    }
   ],
   "source": [
    "reg_casa_4=smf.ols(\"PRECIO~LOTE+CUARTOS+C(BANOS)+PISOS+ENTRADA+REC+SOTANO+CALEF+AIRE+GARAGE+NBHD\",\n",
    "                   data=df_casa_filtrado).fit()\n",
    "\n",
    "print(reg_casa_4.summary())"
   ]
  },
  {
   "cell_type": "code",
   "execution_count": 14,
   "id": "74ba875a",
   "metadata": {},
   "outputs": [
    {
     "name": "stdout",
     "output_type": "stream",
     "text": [
      "<F test: F=60.98075593837472, p=3.087247239773227e-14, df_denom=532, df_num=1>\n"
     ]
    }
   ],
   "source": [
    "print(reg_casa_4.f_test('C(BANOS)[T.2]=0'))"
   ]
  },
  {
   "cell_type": "code",
   "execution_count": 15,
   "id": "c92ed75a",
   "metadata": {},
   "outputs": [],
   "source": [
    "## Interacciones entre variables\n",
    "## La formula incorpora por defecto la constante\n",
    "\n",
    "\n",
    "reg_casa_5=smf.ols('PRECIO ~ LOTE+CUARTOS+LOTE:NBHD',data=df_casa)\n",
    "\n"
   ]
  },
  {
   "cell_type": "code",
   "execution_count": 16,
   "id": "e2f4178b",
   "metadata": {},
   "outputs": [
    {
     "data": {
      "text/html": [
       "<table class=\"simpletable\">\n",
       "<caption>OLS Regression Results</caption>\n",
       "<tr>\n",
       "  <th>Dep. Variable:</th>         <td>PRECIO</td>      <th>  R-squared:         </th> <td>   0.409</td> \n",
       "</tr>\n",
       "<tr>\n",
       "  <th>Model:</th>                   <td>OLS</td>       <th>  Adj. R-squared:    </th> <td>   0.405</td> \n",
       "</tr>\n",
       "<tr>\n",
       "  <th>Method:</th>             <td>Least Squares</td>  <th>  F-statistic:       </th> <td>   93.70</td> \n",
       "</tr>\n",
       "<tr>\n",
       "  <th>Date:</th>             <td>Wed, 30 Jul 2025</td> <th>  Prob (F-statistic):</th> <td>1.62e-60</td> \n",
       "</tr>\n",
       "<tr>\n",
       "  <th>Time:</th>                 <td>12:23:24</td>     <th>  Log-Likelihood:    </th> <td> -6195.6</td> \n",
       "</tr>\n",
       "<tr>\n",
       "  <th>No. Observations:</th>      <td>   546</td>      <th>  AIC:               </th> <td>1.240e+04</td>\n",
       "</tr>\n",
       "<tr>\n",
       "  <th>Df Residuals:</th>          <td>   541</td>      <th>  BIC:               </th> <td>1.242e+04</td>\n",
       "</tr>\n",
       "<tr>\n",
       "  <th>Df Model:</th>              <td>     4</td>      <th>                     </th>     <td> </td>    \n",
       "</tr>\n",
       "<tr>\n",
       "  <th>Covariance Type:</th>      <td>nonrobust</td>    <th>                     </th>     <td> </td>    \n",
       "</tr>\n",
       "</table>\n",
       "<table class=\"simpletable\">\n",
       "<tr>\n",
       "      <td></td>         <th>coef</th>     <th>std err</th>      <th>t</th>      <th>P>|t|</th>  <th>[0.025</th>    <th>0.975]</th>  \n",
       "</tr>\n",
       "<tr>\n",
       "  <th>Intercept</th> <td> 7294.7262</td> <td> 4163.014</td> <td>    1.752</td> <td> 0.080</td> <td> -882.925</td> <td> 1.55e+04</td>\n",
       "</tr>\n",
       "<tr>\n",
       "  <th>CUARTOS</th>   <td> 1.027e+04</td> <td> 1212.646</td> <td>    8.470</td> <td> 0.000</td> <td> 7888.478</td> <td> 1.27e+04</td>\n",
       "</tr>\n",
       "<tr>\n",
       "  <th>LOTE</th>      <td>    5.3083</td> <td>    0.504</td> <td>   10.539</td> <td> 0.000</td> <td>    4.319</td> <td>    6.298</td>\n",
       "</tr>\n",
       "<tr>\n",
       "  <th>NBHD</th>      <td> 9343.4224</td> <td> 5666.371</td> <td>    1.649</td> <td> 0.100</td> <td>-1787.362</td> <td> 2.05e+04</td>\n",
       "</tr>\n",
       "<tr>\n",
       "  <th>LOTE:NBHD</th> <td>    0.5926</td> <td>    0.917</td> <td>    0.646</td> <td> 0.519</td> <td>   -1.210</td> <td>    2.395</td>\n",
       "</tr>\n",
       "</table>\n",
       "<table class=\"simpletable\">\n",
       "<tr>\n",
       "  <th>Omnibus:</th>       <td>84.951</td> <th>  Durbin-Watson:     </th> <td>   1.188</td>\n",
       "</tr>\n",
       "<tr>\n",
       "  <th>Prob(Omnibus):</th> <td> 0.000</td> <th>  Jarque-Bera (JB):  </th> <td> 151.614</td>\n",
       "</tr>\n",
       "<tr>\n",
       "  <th>Skew:</th>          <td> 0.925</td> <th>  Prob(JB):          </th> <td>1.20e-33</td>\n",
       "</tr>\n",
       "<tr>\n",
       "  <th>Kurtosis:</th>      <td> 4.801</td> <th>  Cond. No.          </th> <td>3.94e+04</td>\n",
       "</tr>\n",
       "</table><br/><br/>Notes:<br/>[1] Standard Errors assume that the covariance matrix of the errors is correctly specified.<br/>[2] The condition number is large, 3.94e+04. This might indicate that there are<br/>strong multicollinearity or other numerical problems."
      ],
      "text/latex": [
       "\\begin{center}\n",
       "\\begin{tabular}{lclc}\n",
       "\\toprule\n",
       "\\textbf{Dep. Variable:}    &      PRECIO      & \\textbf{  R-squared:         } &     0.409   \\\\\n",
       "\\textbf{Model:}            &       OLS        & \\textbf{  Adj. R-squared:    } &     0.405   \\\\\n",
       "\\textbf{Method:}           &  Least Squares   & \\textbf{  F-statistic:       } &     93.70   \\\\\n",
       "\\textbf{Date:}             & Wed, 30 Jul 2025 & \\textbf{  Prob (F-statistic):} &  1.62e-60   \\\\\n",
       "\\textbf{Time:}             &     12:23:24     & \\textbf{  Log-Likelihood:    } &   -6195.6   \\\\\n",
       "\\textbf{No. Observations:} &         546      & \\textbf{  AIC:               } & 1.240e+04   \\\\\n",
       "\\textbf{Df Residuals:}     &         541      & \\textbf{  BIC:               } & 1.242e+04   \\\\\n",
       "\\textbf{Df Model:}         &           4      & \\textbf{                     } &             \\\\\n",
       "\\textbf{Covariance Type:}  &    nonrobust     & \\textbf{                     } &             \\\\\n",
       "\\bottomrule\n",
       "\\end{tabular}\n",
       "\\begin{tabular}{lcccccc}\n",
       "                   & \\textbf{coef} & \\textbf{std err} & \\textbf{t} & \\textbf{P$> |$t$|$} & \\textbf{[0.025} & \\textbf{0.975]}  \\\\\n",
       "\\midrule\n",
       "\\textbf{Intercept} &    7294.7262  &     4163.014     &     1.752  &         0.080        &     -882.925    &     1.55e+04     \\\\\n",
       "\\textbf{CUARTOS}   &    1.027e+04  &     1212.646     &     8.470  &         0.000        &     7888.478    &     1.27e+04     \\\\\n",
       "\\textbf{LOTE}      &       5.3083  &        0.504     &    10.539  &         0.000        &        4.319    &        6.298     \\\\\n",
       "\\textbf{NBHD}      &    9343.4224  &     5666.371     &     1.649  &         0.100        &    -1787.362    &     2.05e+04     \\\\\n",
       "\\textbf{LOTE:NBHD} &       0.5926  &        0.917     &     0.646  &         0.519        &       -1.210    &        2.395     \\\\\n",
       "\\bottomrule\n",
       "\\end{tabular}\n",
       "\\begin{tabular}{lclc}\n",
       "\\textbf{Omnibus:}       & 84.951 & \\textbf{  Durbin-Watson:     } &    1.188  \\\\\n",
       "\\textbf{Prob(Omnibus):} &  0.000 & \\textbf{  Jarque-Bera (JB):  } &  151.614  \\\\\n",
       "\\textbf{Skew:}          &  0.925 & \\textbf{  Prob(JB):          } & 1.20e-33  \\\\\n",
       "\\textbf{Kurtosis:}      &  4.801 & \\textbf{  Cond. No.          } & 3.94e+04  \\\\\n",
       "\\bottomrule\n",
       "\\end{tabular}\n",
       "%\\caption{OLS Regression Results}\n",
       "\\end{center}\n",
       "\n",
       "Notes: \\newline\n",
       " [1] Standard Errors assume that the covariance matrix of the errors is correctly specified. \\newline\n",
       " [2] The condition number is large, 3.94e+04. This might indicate that there are \\newline\n",
       " strong multicollinearity or other numerical problems."
      ],
      "text/plain": [
       "<class 'statsmodels.iolib.summary.Summary'>\n",
       "\"\"\"\n",
       "                            OLS Regression Results                            \n",
       "==============================================================================\n",
       "Dep. Variable:                 PRECIO   R-squared:                       0.409\n",
       "Model:                            OLS   Adj. R-squared:                  0.405\n",
       "Method:                 Least Squares   F-statistic:                     93.70\n",
       "Date:                Wed, 30 Jul 2025   Prob (F-statistic):           1.62e-60\n",
       "Time:                        12:23:24   Log-Likelihood:                -6195.6\n",
       "No. Observations:                 546   AIC:                         1.240e+04\n",
       "Df Residuals:                     541   BIC:                         1.242e+04\n",
       "Df Model:                           4                                         \n",
       "Covariance Type:            nonrobust                                         \n",
       "==============================================================================\n",
       "                 coef    std err          t      P>|t|      [0.025      0.975]\n",
       "------------------------------------------------------------------------------\n",
       "Intercept   7294.7262   4163.014      1.752      0.080    -882.925    1.55e+04\n",
       "CUARTOS     1.027e+04   1212.646      8.470      0.000    7888.478    1.27e+04\n",
       "LOTE           5.3083      0.504     10.539      0.000       4.319       6.298\n",
       "NBHD        9343.4224   5666.371      1.649      0.100   -1787.362    2.05e+04\n",
       "LOTE:NBHD      0.5926      0.917      0.646      0.519      -1.210       2.395\n",
       "==============================================================================\n",
       "Omnibus:                       84.951   Durbin-Watson:                   1.188\n",
       "Prob(Omnibus):                  0.000   Jarque-Bera (JB):              151.614\n",
       "Skew:                           0.925   Prob(JB):                     1.20e-33\n",
       "Kurtosis:                       4.801   Cond. No.                     3.94e+04\n",
       "==============================================================================\n",
       "\n",
       "Notes:\n",
       "[1] Standard Errors assume that the covariance matrix of the errors is correctly specified.\n",
       "[2] The condition number is large, 3.94e+04. This might indicate that there are\n",
       "strong multicollinearity or other numerical problems.\n",
       "\"\"\""
      ]
     },
     "metadata": {},
     "output_type": "display_data"
    }
   ],
   "source": [
    "#Incluye lote, nbhd y lote*nbhd\n",
    "reg_casa_6=smf.ols('PRECIO ~CUARTOS+LOTE*NBHD',data=df_casa).fit()\n",
    "\n",
    "display(reg_casa_6.summary())"
   ]
  },
  {
   "cell_type": "code",
   "execution_count": 17,
   "id": "cb8b60cd",
   "metadata": {},
   "outputs": [
    {
     "name": "stdout",
     "output_type": "stream",
     "text": [
      "<F test: F=17.85790812392496, p=3.087994730282173e-08, df_denom=541, df_num=2>\n"
     ]
    }
   ],
   "source": [
    "\n",
    "print(reg_casa_6.f_test('NBHD=0,LOTE:NBHD=0'))"
   ]
  },
  {
   "cell_type": "markdown",
   "id": "a952745b",
   "metadata": {},
   "source": [
    "### Test White"
   ]
  },
  {
   "cell_type": "code",
   "execution_count": 19,
   "id": "52073e89",
   "metadata": {},
   "outputs": [
    {
     "name": "stdout",
     "output_type": "stream",
     "text": [
      "White test statistic: 66.0416350889167, p-value: 2.560619906808647e-10\n"
     ]
    }
   ],
   "source": [
    "white_test=sms.het_white(reg_casa_6.resid, reg_casa_6.model.exog)\n",
    "\n",
    "print(f\"White test statistic: {white_test[0]}, p-value: {white_test[1]}\")"
   ]
  },
  {
   "cell_type": "markdown",
   "id": "bc7d7b95",
   "metadata": {},
   "source": [
    "### H0= Homocedasticidad\n",
    "### H1= Heterocedasticidad\n",
    "### Test de White\n",
    "Como el p-value es muy significativo hay heterocedasticidad."
   ]
  },
  {
   "cell_type": "code",
   "execution_count": 21,
   "id": "b89f9bca",
   "metadata": {},
   "outputs": [
    {
     "name": "stdout",
     "output_type": "stream",
     "text": [
      "                            OLS Regression Results                            \n",
      "==============================================================================\n",
      "Dep. Variable:                 PRECIO   R-squared:                       0.409\n",
      "Model:                            OLS   Adj. R-squared:                  0.405\n",
      "Method:                 Least Squares   F-statistic:                     72.62\n",
      "Date:                Wed, 30 Jul 2025   Prob (F-statistic):           3.08e-49\n",
      "Time:                        14:32:22   Log-Likelihood:                -6195.6\n",
      "No. Observations:                 546   AIC:                         1.240e+04\n",
      "Df Residuals:                     541   BIC:                         1.242e+04\n",
      "Df Model:                           4                                         \n",
      "Covariance Type:                  HC1                                         \n",
      "==============================================================================\n",
      "                 coef    std err          t      P>|t|      [0.025      0.975]\n",
      "------------------------------------------------------------------------------\n",
      "Intercept   7294.7262   4017.535      1.816      0.070    -597.153    1.52e+04\n",
      "CUARTOS     1.027e+04   1239.926      8.283      0.000    7834.892    1.27e+04\n",
      "LOTE           5.3083      0.630      8.421      0.000       4.070       6.546\n",
      "NBHD        9343.4224   5351.855      1.746      0.081   -1169.540    1.99e+04\n",
      "LOTE:NBHD      0.5926      1.082      0.548      0.584      -1.533       2.718\n",
      "==============================================================================\n",
      "Omnibus:                       84.951   Durbin-Watson:                   1.188\n",
      "Prob(Omnibus):                  0.000   Jarque-Bera (JB):              151.614\n",
      "Skew:                           0.925   Prob(JB):                     1.20e-33\n",
      "Kurtosis:                       4.801   Cond. No.                     3.94e+04\n",
      "==============================================================================\n",
      "\n",
      "Notes:\n",
      "[1] Standard Errors are heteroscedasticity robust (HC1)\n",
      "[2] The condition number is large, 3.94e+04. This might indicate that there are\n",
      "strong multicollinearity or other numerical problems.\n"
     ]
    }
   ],
   "source": [
    "reg_casa_6_robust = reg_casa_6.get_robustcov_results(cov_type='HC1')\n",
    "print(reg_casa_6_robust.summary())"
   ]
  },
  {
   "cell_type": "markdown",
   "id": "7dec7d2a",
   "metadata": {},
   "source": [
    "### Aca lo que cambia es el std err, t y p-value, los coeficientes no cambian."
   ]
  },
  {
   "cell_type": "markdown",
   "id": "0e57ae4b",
   "metadata": {},
   "source": [
    "## Ejemplo multicolinealidad"
   ]
  },
  {
   "cell_type": "code",
   "execution_count": 30,
   "id": "796ac7a1",
   "metadata": {},
   "outputs": [
    {
     "name": "stdout",
     "output_type": "stream",
     "text": [
      "       Gan  Gan_10  Comp\n",
      "0    357.0      35   0.7\n",
      "1     48.0       4   0.7\n",
      "2    932.0      93   0.8\n",
      "3    366.0      36   0.7\n",
      "4     83.0       8   0.8\n",
      "5     22.0       2   0.0\n",
      "6     67.0       6   0.0\n",
      "7    413.0      41   0.6\n",
      "8    496.0      49   0.3\n",
      "9    458.0      45   0.5\n",
      "10   152.0      15   0.4\n",
      "11   115.0      11   1.0\n",
      "12   964.0      96   0.9\n",
      "13   459.0      45   1.2\n",
      "14   421.0      42   1.0\n",
      "15   723.0      72   1.3\n",
      "16   256.0      25   1.1\n",
      "17   294.0      29   0.5\n",
      "18  1310.0     131   0.7\n",
      "19   627.0      62   0.6\n"
     ]
    },
    {
     "data": {
      "text/html": [
       "<div>\n",
       "<style scoped>\n",
       "    .dataframe tbody tr th:only-of-type {\n",
       "        vertical-align: middle;\n",
       "    }\n",
       "\n",
       "    .dataframe tbody tr th {\n",
       "        vertical-align: top;\n",
       "    }\n",
       "\n",
       "    .dataframe thead th {\n",
       "        text-align: right;\n",
       "    }\n",
       "</style>\n",
       "<table border=\"1\" class=\"dataframe\">\n",
       "  <thead>\n",
       "    <tr style=\"text-align: right;\">\n",
       "      <th></th>\n",
       "      <th>const</th>\n",
       "      <th>Gan</th>\n",
       "      <th>Gan_10</th>\n",
       "    </tr>\n",
       "  </thead>\n",
       "  <tbody>\n",
       "    <tr>\n",
       "      <th>0</th>\n",
       "      <td>1.0</td>\n",
       "      <td>357.0</td>\n",
       "      <td>35</td>\n",
       "    </tr>\n",
       "    <tr>\n",
       "      <th>1</th>\n",
       "      <td>1.0</td>\n",
       "      <td>48.0</td>\n",
       "      <td>4</td>\n",
       "    </tr>\n",
       "    <tr>\n",
       "      <th>2</th>\n",
       "      <td>1.0</td>\n",
       "      <td>932.0</td>\n",
       "      <td>93</td>\n",
       "    </tr>\n",
       "    <tr>\n",
       "      <th>3</th>\n",
       "      <td>1.0</td>\n",
       "      <td>366.0</td>\n",
       "      <td>36</td>\n",
       "    </tr>\n",
       "    <tr>\n",
       "      <th>4</th>\n",
       "      <td>1.0</td>\n",
       "      <td>83.0</td>\n",
       "      <td>8</td>\n",
       "    </tr>\n",
       "    <tr>\n",
       "      <th>...</th>\n",
       "      <td>...</td>\n",
       "      <td>...</td>\n",
       "      <td>...</td>\n",
       "    </tr>\n",
       "    <tr>\n",
       "      <th>65</th>\n",
       "      <td>1.0</td>\n",
       "      <td>327.0</td>\n",
       "      <td>32</td>\n",
       "    </tr>\n",
       "    <tr>\n",
       "      <th>66</th>\n",
       "      <td>1.0</td>\n",
       "      <td>409.0</td>\n",
       "      <td>40</td>\n",
       "    </tr>\n",
       "    <tr>\n",
       "      <th>67</th>\n",
       "      <td>1.0</td>\n",
       "      <td>117.0</td>\n",
       "      <td>11</td>\n",
       "    </tr>\n",
       "    <tr>\n",
       "      <th>68</th>\n",
       "      <td>1.0</td>\n",
       "      <td>179.0</td>\n",
       "      <td>17</td>\n",
       "    </tr>\n",
       "    <tr>\n",
       "      <th>69</th>\n",
       "      <td>1.0</td>\n",
       "      <td>234.0</td>\n",
       "      <td>23</td>\n",
       "    </tr>\n",
       "  </tbody>\n",
       "</table>\n",
       "<p>70 rows × 3 columns</p>\n",
       "</div>"
      ],
      "text/plain": [
       "    const    Gan  Gan_10\n",
       "0     1.0  357.0      35\n",
       "1     1.0   48.0       4\n",
       "2     1.0  932.0      93\n",
       "3     1.0  366.0      36\n",
       "4     1.0   83.0       8\n",
       "..    ...    ...     ...\n",
       "65    1.0  327.0      32\n",
       "66    1.0  409.0      40\n",
       "67    1.0  117.0      11\n",
       "68    1.0  179.0      17\n",
       "69    1.0  234.0      23\n",
       "\n",
       "[70 rows x 3 columns]"
      ]
     },
     "metadata": {},
     "output_type": "display_data"
    },
    {
     "data": {
      "text/plain": [
       "0     0.7\n",
       "1     0.7\n",
       "2     0.8\n",
       "3     0.7\n",
       "4     0.8\n",
       "     ... \n",
       "65    0.6\n",
       "66    1.7\n",
       "67    2.4\n",
       "68    0.4\n",
       "69    1.2\n",
       "Name: Comp, Length: 70, dtype: float64"
      ]
     },
     "metadata": {},
     "output_type": "display_data"
    },
    {
     "name": "stdout",
     "output_type": "stream",
     "text": [
      "                            OLS Regression Results                            \n",
      "==============================================================================\n",
      "Dep. Variable:                   Comp   R-squared:                       0.436\n",
      "Model:                            OLS   Adj. R-squared:                  0.419\n",
      "Method:                 Least Squares   F-statistic:                     25.92\n",
      "Date:                Wed, 30 Jul 2025   Prob (F-statistic):           4.59e-09\n",
      "Time:                        15:42:04   Log-Likelihood:                -73.546\n",
      "No. Observations:                  70   AIC:                             153.1\n",
      "Df Residuals:                      67   BIC:                             159.8\n",
      "Df Model:                           2                                         \n",
      "Covariance Type:            nonrobust                                         \n",
      "==============================================================================\n",
      "                 coef    std err          t      P>|t|      [0.025      0.975]\n",
      "------------------------------------------------------------------------------\n",
      "const          0.6558      0.166      3.941      0.000       0.324       0.988\n",
      "Gan           -0.0131      0.031     -0.430      0.669      -0.074       0.048\n",
      "Gan_10         0.1396      0.305      0.457      0.649      -0.470       0.749\n",
      "==============================================================================\n",
      "Omnibus:                       22.010   Durbin-Watson:                   2.016\n",
      "Prob(Omnibus):                  0.000   Jarque-Bera (JB):               36.313\n",
      "Skew:                           1.156   Prob(JB):                     1.30e-08\n",
      "Kurtosis:                       5.665   Cond. No.                     3.82e+03\n",
      "==============================================================================\n",
      "\n",
      "Notes:\n",
      "[1] Standard Errors assume that the covariance matrix of the errors is correctly specified.\n",
      "[2] The condition number is large, 3.82e+03. This might indicate that there are\n",
      "strong multicollinearity or other numerical problems.\n"
     ]
    }
   ],
   "source": [
    "dfmulti = pd.read_excel('./CEO_ejemplo_multicolinealidad.xlsx',sheet_name='datos')\n",
    "\n",
    "print(dfmulti.head(20))\n",
    "\n",
    "X_mult=sm.add_constant(dfmulti.drop(columns='Comp'))\n",
    "y=dfmulti['Comp']\n",
    "display(X_mult)\n",
    "display(y)\n",
    "regre_multico=sm.OLS(y,X_mult).fit()\n",
    "\n",
    "print(regre_multico.summary())\n"
   ]
  },
  {
   "cell_type": "markdown",
   "id": "b8cab762",
   "metadata": {},
   "source": [
    "### Aca vemos varios p-values altos y un f-statistics bajo, lo que indica que es posible que exista un problema de multicolinealidas."
   ]
  },
  {
   "cell_type": "code",
   "execution_count": 33,
   "id": "02b95213",
   "metadata": {},
   "outputs": [
    {
     "name": "stdout",
     "output_type": "stream",
     "text": [
      "                            OLS Regression Results                            \n",
      "==============================================================================\n",
      "Dep. Variable:                   Comp   R-squared:                       0.434\n",
      "Model:                            OLS   Adj. R-squared:                  0.426\n",
      "Method:                 Least Squares   F-statistic:                     52.24\n",
      "Date:                Wed, 30 Jul 2025   Prob (F-statistic):           5.50e-10\n",
      "Time:                        15:45:59   Log-Likelihood:                -73.655\n",
      "No. Observations:                  70   AIC:                             151.3\n",
      "Df Residuals:                      68   BIC:                             155.8\n",
      "Df Model:                           1                                         \n",
      "Covariance Type:            nonrobust                                         \n",
      "==============================================================================\n",
      "                 coef    std err          t      P>|t|      [0.025      0.975]\n",
      "------------------------------------------------------------------------------\n",
      "const          0.6000      0.112      5.342      0.000       0.376       0.824\n",
      "Gan            0.0008      0.000      7.228      0.000       0.001       0.001\n",
      "==============================================================================\n",
      "Omnibus:                       21.745   Durbin-Watson:                   2.045\n",
      "Prob(Omnibus):                  0.000   Jarque-Bera (JB):               36.165\n",
      "Skew:                           1.136   Prob(JB):                     1.40e-08\n",
      "Kurtosis:                       5.691   Cond. No.                     1.29e+03\n",
      "==============================================================================\n",
      "\n",
      "Notes:\n",
      "[1] Standard Errors assume that the covariance matrix of the errors is correctly specified.\n",
      "[2] The condition number is large, 1.29e+03. This might indicate that there are\n",
      "strong multicollinearity or other numerical problems.\n"
     ]
    }
   ],
   "source": [
    "X=sm.add_constant(dfmulti[\"Gan\"])\n",
    "\n",
    "reg_normal=sm.OLS(y,X).fit()\n",
    "\n",
    "print(reg_normal.summary())"
   ]
  }
 ],
 "metadata": {
  "kernelspec": {
   "display_name": "islp",
   "language": "python",
   "name": "python3"
  },
  "language_info": {
   "codemirror_mode": {
    "name": "ipython",
    "version": 3
   },
   "file_extension": ".py",
   "mimetype": "text/x-python",
   "name": "python",
   "nbconvert_exporter": "python",
   "pygments_lexer": "ipython3",
   "version": "3.12.11"
  }
 },
 "nbformat": 4,
 "nbformat_minor": 5
}
