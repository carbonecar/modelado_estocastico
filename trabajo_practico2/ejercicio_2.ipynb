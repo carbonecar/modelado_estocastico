{
 "cells": [
  {
   "cell_type": "code",
   "execution_count": 1,
   "id": "5646db14",
   "metadata": {},
   "outputs": [],
   "source": [
    "import numpy as np\n",
    "import pandas as pd\n",
    "import statsmodels.api as sm"
   ]
  },
  {
   "cell_type": "markdown",
   "id": "14aad553",
   "metadata": {},
   "source": [
    "Ejercicio 2: la base de datos delinq2.dta, contiene información sobre 150.000 individuos y sus atrasos (morosidad) en el pago de deuda bancaria. Las variables se explican a continuación:  \n",
    "* SeriousDlqin2yrs: Person experienced 90 days past due delinquency or worse (0 ó 1)  \n",
    "* Age: Age of borrower in years  \n",
    "* NumberOfTime30-59DaysPastDueNotWorse: Number of times borrower has been 30-59 days past due but no worse in the last 2 years.  \n",
    "* DebtRatio: Monthly debt payments, living costs divided by monthly gross income  \n",
    "* NumberOfTimes90DaysLate: Number of times borrower has been 90 days or more past due."
   ]
  },
  {
   "cell_type": "code",
   "execution_count": null,
   "id": "adadd407",
   "metadata": {},
   "outputs": [
    {
     "data": {
      "text/html": [
       "<div>\n",
       "<style scoped>\n",
       "    .dataframe tbody tr th:only-of-type {\n",
       "        vertical-align: middle;\n",
       "    }\n",
       "\n",
       "    .dataframe tbody tr th {\n",
       "        vertical-align: top;\n",
       "    }\n",
       "\n",
       "    .dataframe thead th {\n",
       "        text-align: right;\n",
       "    }\n",
       "</style>\n",
       "<table border=\"1\" class=\"dataframe\">\n",
       "  <thead>\n",
       "    <tr style=\"text-align: right;\">\n",
       "      <th></th>\n",
       "      <th>seriousdlqin2yrs</th>\n",
       "      <th>age</th>\n",
       "      <th>numberoftime3059dayspastduenotwo</th>\n",
       "      <th>debtratio</th>\n",
       "      <th>numberoftimes90dayslate</th>\n",
       "    </tr>\n",
       "  </thead>\n",
       "  <tbody>\n",
       "    <tr>\n",
       "      <th>0</th>\n",
       "      <td>1</td>\n",
       "      <td>45</td>\n",
       "      <td>2</td>\n",
       "      <td>0.802982</td>\n",
       "      <td>0</td>\n",
       "    </tr>\n",
       "    <tr>\n",
       "      <th>1</th>\n",
       "      <td>0</td>\n",
       "      <td>40</td>\n",
       "      <td>0</td>\n",
       "      <td>0.121876</td>\n",
       "      <td>0</td>\n",
       "    </tr>\n",
       "    <tr>\n",
       "      <th>2</th>\n",
       "      <td>0</td>\n",
       "      <td>38</td>\n",
       "      <td>1</td>\n",
       "      <td>0.085113</td>\n",
       "      <td>1</td>\n",
       "    </tr>\n",
       "    <tr>\n",
       "      <th>3</th>\n",
       "      <td>0</td>\n",
       "      <td>30</td>\n",
       "      <td>0</td>\n",
       "      <td>0.036050</td>\n",
       "      <td>0</td>\n",
       "    </tr>\n",
       "    <tr>\n",
       "      <th>4</th>\n",
       "      <td>0</td>\n",
       "      <td>49</td>\n",
       "      <td>1</td>\n",
       "      <td>0.024926</td>\n",
       "      <td>0</td>\n",
       "    </tr>\n",
       "    <tr>\n",
       "      <th>...</th>\n",
       "      <td>...</td>\n",
       "      <td>...</td>\n",
       "      <td>...</td>\n",
       "      <td>...</td>\n",
       "      <td>...</td>\n",
       "    </tr>\n",
       "    <tr>\n",
       "      <th>149995</th>\n",
       "      <td>0</td>\n",
       "      <td>74</td>\n",
       "      <td>0</td>\n",
       "      <td>0.225131</td>\n",
       "      <td>0</td>\n",
       "    </tr>\n",
       "    <tr>\n",
       "      <th>149996</th>\n",
       "      <td>0</td>\n",
       "      <td>44</td>\n",
       "      <td>0</td>\n",
       "      <td>0.716562</td>\n",
       "      <td>0</td>\n",
       "    </tr>\n",
       "    <tr>\n",
       "      <th>149997</th>\n",
       "      <td>0</td>\n",
       "      <td>58</td>\n",
       "      <td>0</td>\n",
       "      <td>3870.000000</td>\n",
       "      <td>0</td>\n",
       "    </tr>\n",
       "    <tr>\n",
       "      <th>149998</th>\n",
       "      <td>0</td>\n",
       "      <td>30</td>\n",
       "      <td>0</td>\n",
       "      <td>0.000000</td>\n",
       "      <td>0</td>\n",
       "    </tr>\n",
       "    <tr>\n",
       "      <th>149999</th>\n",
       "      <td>0</td>\n",
       "      <td>64</td>\n",
       "      <td>0</td>\n",
       "      <td>0.249908</td>\n",
       "      <td>0</td>\n",
       "    </tr>\n",
       "  </tbody>\n",
       "</table>\n",
       "<p>150000 rows × 5 columns</p>\n",
       "</div>"
      ],
      "text/plain": [
       "        seriousdlqin2yrs  age  numberoftime3059dayspastduenotwo    debtratio  \\\n",
       "0                      1   45                                 2     0.802982   \n",
       "1                      0   40                                 0     0.121876   \n",
       "2                      0   38                                 1     0.085113   \n",
       "3                      0   30                                 0     0.036050   \n",
       "4                      0   49                                 1     0.024926   \n",
       "...                  ...  ...                               ...          ...   \n",
       "149995                 0   74                                 0     0.225131   \n",
       "149996                 0   44                                 0     0.716562   \n",
       "149997                 0   58                                 0  3870.000000   \n",
       "149998                 0   30                                 0     0.000000   \n",
       "149999                 0   64                                 0     0.249908   \n",
       "\n",
       "        numberoftimes90dayslate  \n",
       "0                             0  \n",
       "1                             0  \n",
       "2                             1  \n",
       "3                             0  \n",
       "4                             0  \n",
       "...                         ...  \n",
       "149995                        0  \n",
       "149996                        0  \n",
       "149997                        0  \n",
       "149998                        0  \n",
       "149999                        0  \n",
       "\n",
       "[150000 rows x 5 columns]"
      ]
     },
     "execution_count": 2,
     "metadata": {},
     "output_type": "execute_result"
    }
   ],
   "source": [
    "df = pd.read_stata(\"delinq2.DTA\")\n",
    "df"
   ]
  },
  {
   "cell_type": "markdown",
   "id": "c12c577b",
   "metadata": {},
   "source": [
    "a) Estime un modelo logit en donde la variable a explicar es SeriousDlqin2yrs y las variables explicativas son age, numberoftime3059dayspastduenotwo, debtratio y numberoftimes90dayslate. Muestre los efectos marginales."
   ]
  },
  {
   "cell_type": "code",
   "execution_count": 9,
   "id": "87df8cdb",
   "metadata": {},
   "outputs": [
    {
     "name": "stdout",
     "output_type": "stream",
     "text": [
      "Optimization terminated successfully.\n",
      "         Current function value: 0.235144\n",
      "         Iterations 7\n",
      "                           Logit Regression Results                           \n",
      "==============================================================================\n",
      "Dep. Variable:       seriousdlqin2yrs   No. Observations:               150000\n",
      "Model:                          Logit   Df Residuals:                   149995\n",
      "Method:                           MLE   Df Model:                            4\n",
      "Date:                Wed, 03 Sep 2025   Pseudo R-squ.:                 0.04174\n",
      "Time:                        14:31:32   Log-Likelihood:                -35272.\n",
      "converged:                       True   LL-Null:                       -36808.\n",
      "Covariance Type:            nonrobust   LLR p-value:                     0.000\n",
      "====================================================================================================\n",
      "                                       coef    std err          z      P>|z|      [0.025      0.975]\n",
      "----------------------------------------------------------------------------------------------------\n",
      "const                               -1.1239      0.037    -30.054      0.000      -1.197      -1.051\n",
      "age                                 -0.0320      0.001    -41.650      0.000      -0.034      -0.031\n",
      "numberoftime3059dayspastduenotwo     0.2323      0.012     20.037      0.000       0.210       0.255\n",
      "debtratio                        -1.582e-05   9.79e-06     -1.616      0.106    -3.5e-05    3.36e-06\n",
      "numberoftimes90dayslate             -0.1972      0.012    -16.945      0.000      -0.220      -0.174\n",
      "====================================================================================================\n",
      "        Logit Marginal Effects       \n",
      "=====================================\n",
      "Dep. Variable:       seriousdlqin2yrs\n",
      "Method:                          dydx\n",
      "At:                              mean\n",
      "====================================================================================================\n",
      "                                      dy/dx    std err          z      P>|z|      [0.025      0.975]\n",
      "----------------------------------------------------------------------------------------------------\n",
      "age                                 -0.0018   3.99e-05    -44.948      0.000      -0.002      -0.002\n",
      "numberoftime3059dayspastduenotwo     0.0130      0.001     20.158      0.000       0.012       0.014\n",
      "debtratio                        -8.871e-07   5.49e-07     -1.617      0.106   -1.96e-06    1.88e-07\n",
      "numberoftimes90dayslate             -0.0111      0.001    -17.066      0.000      -0.012      -0.010\n",
      "====================================================================================================\n"
     ]
    }
   ],
   "source": [
    "# Estimamos un modelo Logit \n",
    "# variable a explicar: \"seriousdlqin2yrs\"\n",
    "# variables explicativas: \"age\", \"numberoftime3059dayspastduenotwo\", \"debtratio\" y \"numberoftimes90dayslate\"\n",
    "\n",
    "y = df['seriousdlqin2yrs']\n",
    "X = df[['age', 'numberoftime3059dayspastduenotwo', 'debtratio', 'numberoftimes90dayslate']]\n",
    "X = sm.add_constant(X)\n",
    "\n",
    "# Corro la regresion\n",
    "logit_res = sm.Logit(y, X).fit()\n",
    "print(logit_res.summary())\n",
    "\n",
    "# Calculo los efectos marginales\n",
    "print(logit_res.get_margeff(at='mean').summary())"
   ]
  },
  {
   "cell_type": "markdown",
   "id": "fbd0a721",
   "metadata": {},
   "source": [
    "b) ¿Cuál es el efecto marginal de tener un atraso más de 30 a 59 días, pero no peor, en los últimos dos años sobre la probabilidad de entrar en morosidad de 90 o más días?"
   ]
  },
  {
   "cell_type": "code",
   "execution_count": null,
   "id": "8d02f951",
   "metadata": {},
   "outputs": [],
   "source": [
    "# El efecto marginal es de 0.013, esto quiere decir que un atraso mas de 30-50 dias aumenta en 1.3 puntos la probabilidad de caer en morosidad, manteniendo las demas variables constantes"
   ]
  },
  {
   "cell_type": "markdown",
   "id": "6604e477",
   "metadata": {},
   "source": [
    "c) Calcule la razón de probabilidades (odds ratio) de tener un atraso más de 30 a 59 días, pero no peor, en los últimos dos años."
   ]
  },
  {
   "cell_type": "code",
   "execution_count": null,
   "id": "1ee84fc9",
   "metadata": {},
   "outputs": [
    {
     "data": {
      "text/plain": [
       "const                               0.325022\n",
       "age                                 0.968497\n",
       "numberoftime3059dayspastduenotwo    1.261477\n",
       "debtratio                           0.999984\n",
       "numberoftimes90dayslate             0.821032\n",
       "dtype: float64"
      ]
     },
     "execution_count": 11,
     "metadata": {},
     "output_type": "execute_result"
    }
   ],
   "source": [
    "# Como los coeficientes de logit estan en log odds, los convertimmos primero a odds ratio\n",
    "# De aqui podemos oberservar que para numberoftime3059dayspastduenotwo el odds ratio tiene un valor de 1.26, esto indica que cada atraso incrementa un 26% las chances de entrar en morosidad\n",
    "\n",
    "np.exp(logit_res.params)"
   ]
  }
 ],
 "metadata": {
  "kernelspec": {
   "display_name": "Python 3",
   "language": "python",
   "name": "python3"
  },
  "language_info": {
   "codemirror_mode": {
    "name": "ipython",
    "version": 3
   },
   "file_extension": ".py",
   "mimetype": "text/x-python",
   "name": "python",
   "nbconvert_exporter": "python",
   "pygments_lexer": "ipython3",
   "version": "3.11.9"
  }
 },
 "nbformat": 4,
 "nbformat_minor": 5
}
